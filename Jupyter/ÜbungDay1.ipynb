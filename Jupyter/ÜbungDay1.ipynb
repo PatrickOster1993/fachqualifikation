{
 "cells": [
  {
   "cell_type": "markdown",
   "metadata": {},
   "source": [
    "Aufgabe 2:\n",
    "Eine Programm was den Namen, mein Alter und mein Lieblingsessen in de rKonsole einliesst und in einem Satz ausgibt."
   ]
  },
  {
   "cell_type": "code",
   "execution_count": 1,
   "metadata": {},
   "outputs": [
    {
     "name": "stdout",
     "output_type": "stream",
     "text": [
      "Wer bist Du denn?\n",
      "Hi Sonny!\n",
      "Wie alt bist Du?\n",
      "Und was futterst Du am liebsten?\n",
      "Also Du heißt Sonny, bist 42 Jahre alt und futterst am liebsten Pizza.\n",
      "That`s just fucki*g awesome!\n"
     ]
    }
   ],
   "source": [
    "print('Wer bist Du denn?')\n",
    "name = input()\n",
    "print('Hi ' + name + '!')\n",
    "print('Wie alt bist Du?')\n",
    "age = input()\n",
    "print('Und was futterst Du am liebsten?')\n",
    "food = input()\n",
    "print('Also Du heißt ' + name + ', bist ' + age + ' Jahre alt und futterst am liebsten ' + food + '.')\n",
    "print('That`s just fucki*g awesome!')"
   ]
  },
  {
   "cell_type": "markdown",
   "metadata": {},
   "source": [
    "Aufgabe 3:\n",
    "Ein einfacher Temperatur Konverter\n"
   ]
  },
  {
   "cell_type": "code",
   "execution_count": null,
   "metadata": {},
   "outputs": [
    {
     "name": "stdout",
     "output_type": "stream",
     "text": [
      "Das sind 59.0 Grad Fahrenheit.\n"
     ]
    }
   ],
   "source": [
    "celcius = input('Geb die Temperatur in Celsius ein: ')\n",
    "fahrehnheit = float(celcius) * 9/5 + 32\n",
    "print('Das sind ' + str(fahrehnheit) + ' Grad Fahrenheit.')\n",
    "\n",
    "fahrehnheit = input('Geb die Temperatur in Fahrenheit ein: ')\n",
    "celcius = (float(fahrehnheit) - 32) * 5/9\n",
    "print('Das sind ' + str(celcius) + ' Grad Celsius.')\n"
   ]
  },
  {
   "cell_type": "markdown",
   "metadata": {},
   "source": [
    "Aufgabe 4:\n",
    "Eine App die 2 binäre Zahlen vergleicht.\n",
    "a = 0b1101\n",
    "b = 0b1011\n",
    "Berechne bitweise UND, bitweise ODER und das bitweise XOR dieser beiden Zahlen.\n",
    "Prüfen ob das Ergebnis des bitweisen UND eine ungerade Zahl ist und gebe das Ergebnis als Dezimal und Binär Form aus."
   ]
  },
  {
   "cell_type": "code",
   "execution_count": 7,
   "metadata": {},
   "outputs": [
    {
     "name": "stdout",
     "output_type": "stream",
     "text": [
      "Bitweises UND: 0b1001, Dezimal: 9\n",
      "Bitweises ODER: 0b1111, Dezimal: 15\n",
      "Bitweises XOR: 0b110, Dezimal: 6\n",
      "Das Ergebnis des bitweisen UND ist eine ungerade Zahl.\n"
     ]
    }
   ],
   "source": [
    "a = 0b1101\n",
    "b = 0b1011\n",
    "\n",
    "# Bitweise Operationen\n",
    "und = a & b\n",
    "oder = a | b\n",
    "xor = a ^ b\n",
    "\n",
    "# Ausgabe der Ergebnisse\n",
    "print(f\"Bitweises UND: {bin(und)}, Dezimal: {und}\")\n",
    "print(f\"Bitweises ODER: {bin(oder)}, Dezimal: {oder}\")\n",
    "print(f\"Bitweises XOR: {bin(xor)}, Dezimal: {xor}\")\n",
    "\n",
    "# Prüfung auf ungerade Zahl\n",
    "if und % 2 != 0:\n",
    "    print(\"Das Ergebnis des bitweisen UND ist eine ungerade Zahl.\")\n",
    "else:\n",
    "    print(\"Das Ergebnis des bitweisen UND ist eine gerade Zahl.\")"
   ]
  },
  {
   "cell_type": "markdown",
   "metadata": {},
   "source": [
    "5. Aufgabe:\n",
    "Eine App die eine Zahl einliest und folgendes  prüft:\n",
    "1. Falls negativ -> \"Zahl ist Negativ!\"\n",
    "2. Falls 0 -> \" Zahl ist null.\"\n",
    "3. Falls Zahl positiv und gerade -> Zahl ist posi und gerade.\"\n",
    "4. Falls Zahl posi und ungerade dann:\n",
    "    (1) Falls Zahl größer als 100 ist -> \" Zahl ist posi und größer als 100.\"\n",
    "    (2) Ansonsten: -> \"Die Zahl ist positiv und ungerade!\"\n",
    "5. Bonus: Prüfen ob die Zahl eine PRimzahl ist. -> Zusätzlich ist die Zahl eine Primzahl.\n",
    "    In der Zahlentheorie wird eine natürliche Zahl n als Primzahl bezeichnet, wenn sie genau zwei Faktoren hat: 1 und die Zahl selbst(n). Erinnern Sie sich an Ihre Schulmathematik: Eine Zahl i gilt als Faktor der Zahl n, wenn i n gleichmäßig teilt. "
   ]
  },
  {
   "cell_type": "code",
   "execution_count": 2,
   "metadata": {},
   "outputs": [
    {
     "name": "stdout",
     "output_type": "stream",
     "text": [
      "Die Zahl ist positiv und ungerade.\n",
      "Die Zahl ist eine Primzahl.\n"
     ]
    }
   ],
   "source": [
    "eingabe = input(\"Gib eine Zahl ein: \")\n",
    "zahl = int(eingabe)\n",
    "\n",
    "if zahl < 0:\n",
    "    print(\"Die Zahl ist negativ.\")\n",
    "elif zahl == 0:\n",
    "    print(\"Die Zahl ist null.\")\n",
    "elif zahl % 2 == 0:\n",
    "    print(\"Die Zahl ist positiv und gerade.\")\n",
    "elif zahl > 100:\n",
    "    print(\"Die Zahl ist positiv, ungerade und größer als 100.\")\n",
    "else:\n",
    "    print(\"Die Zahl ist positiv und ungerade.\")\n",
    "\n",
    "def is_prime(zahl):\n",
    "    if zahl <= 1:\n",
    "        return False\n",
    "    \n",
    "    for i in range(2, int(zahl**0.5) + 1):\n",
    "        if zahl % i == 0:\n",
    "          return False\n",
    "    \n",
    "    return True\n",
    "\n",
    "if is_prime(zahl):\n",
    "    print(\"Die Zahl ist eine Primzahl.\")\n"
   ]
  }
 ],
 "metadata": {
  "kernelspec": {
   "display_name": ".venv",
   "language": "python",
   "name": ".venv"
  },
  "language_info": {
   "codemirror_mode": {
    "name": "ipython",
    "version": 3
   },
   "file_extension": ".py",
   "mimetype": "text/x-python",
   "name": "python",
   "nbconvert_exporter": "python",
   "pygments_lexer": "ipython3",
   "version": "3.12.3"
  }
 },
 "nbformat": 4,
 "nbformat_minor": 2
}
