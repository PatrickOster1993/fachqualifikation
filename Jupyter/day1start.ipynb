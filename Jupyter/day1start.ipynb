{
 "cells": [
  {
   "cell_type": "code",
   "execution_count": null,
   "metadata": {},
   "outputs": [],
   "source": [
    "# Ein und Ausgabe in einer Zeile\n",
    "print(\"Hallo\", input(\"Wie heißt du?\"))"
   ]
  },
  {
   "cell_type": "code",
   "execution_count": null,
   "metadata": {},
   "outputs": [],
   "source": [
    "# Eingabe von der Konsole\n",
    "a = 5\n",
    "print(\"Meine Zahl ist\", a, sep=\": \", end=\"!\\n\") # Meine Zahl ist: 5!\n"
   ]
  },
  {
   "cell_type": "code",
   "execution_count": 9,
   "metadata": {},
   "outputs": [
    {
     "name": "stdout",
     "output_type": "stream",
     "text": []
    }
   ],
   "source": [
    "# Nummerische Variablen\n",
    "big = 1_000_000\n",
    "print(big)\n",
    "\n",
    "# Umwandlung von Strings in Zahlen\n",
    "a = int(input(\"Gib eine Zahl ein: \"))\n",
    "print(a + 5)\n",
    "\n",
    "# Umwandlung von Zahlen in Strings\n",
    "a = 5\n",
    "print(\"Die Zahl ist \" + str(a))\n",
    "\n",
    "# Länge eines Strings\n",
    "a = \"Hallo\"\n",
    "print(len(a))\n",
    "\n",
    "# Heaxadezimalzahlen\n",
    "a = 0x1\n",
    "print(\"Hexa:\", a)\n",
    "print(\"Hexa:\", hex(a))\n",
    "print(\"Binär:\", bin(a))\n",
    "print(\"Oktal:\", oct(a))\n"
   ]
  },
  {
   "cell_type": "code",
   "execution_count": 13,
   "metadata": {},
   "outputs": [
    {
     "name": "stdout",
     "output_type": "stream",
     "text": []
    }
   ],
   "source": [
    "# Typen Check\n",
    "print(type(5))\n",
    "print(type(hex(0xb)))\n",
    "print(type(5.0))\n",
    "print(type(\"Hallo\"))\n",
    "print(type(True))\n",
    "print(type(None))\n"
   ]
  },
  {
   "cell_type": "code",
   "execution_count": null,
   "metadata": {},
   "outputs": [
    {
     "name": "stdout",
     "output_type": "stream",
     "text": []
    }
   ],
   "source": [
    "# ID der Speicheradresse checken\n",
    "\n",
    "i = 6\n",
    "n = 3\n",
    "\n",
    "print(id(i), id(n))\n",
    "print(id(i) - id(n))\n",
    "print(id(i))\n",
    "print(id(n))"
   ]
  },
  {
   "cell_type": "code",
   "execution_count": 21,
   "metadata": {},
   "outputs": [
    {
     "name": "stdout",
     "output_type": "stream",
     "text": []
    }
   ],
   "source": [
    "# Modulo\n",
    "print(5 % 2)\n",
    "print(5 % 5)\n",
    "print(5 % 6)\n",
    "print(5 // 2)\n",
    "print(5 / 2)"
   ]
  },
  {
   "cell_type": "code",
   "execution_count": 25,
   "metadata": {},
   "outputs": [
    {
     "name": "stdout",
     "output_type": "stream",
     "text": []
    }
   ],
   "source": [
    "# Potenzen\n",
    "a = 2**3\n",
    "b = 2**4\n",
    "c = 2 * 2**3\n",
    "print(a, b, c)\n",
    "\n",
    "\n",
    "\n"
   ]
  },
  {
   "cell_type": "code",
   "execution_count": 27,
   "metadata": {},
   "outputs": [
    {
     "name": "stdout",
     "output_type": "stream",
     "text": []
    }
   ],
   "source": [
    "str(5 + 6)\n",
    "print(5 + 6)\n",
    "print(type(5 + 6))"
   ]
  },
  {
   "cell_type": "code",
   "execution_count": 29,
   "metadata": {},
   "outputs": [
    {
     "name": "stdout",
     "output_type": "stream",
     "text": []
    }
   ],
   "source": [
    "binary_one = 0b101\n",
    "binary_two = 0b111\n",
    "print(binary_one, binary_two)\n",
    "binary_result = binary_one and binary_two\n",
    "binary_result1 = binary_one | binary_two\n",
    "binary_result2 = binary_one ^ binary_two\n",
    "binary_result3 = ~binary_one\n",
    "binary_result4 = binary_one << 1\n",
    "binary_result5 = binary_one >> 1\n",
    "\n",
    "print(\"Lösung\", bin(binary_result))\n",
    "print(\"Lösung\", (binary_result))\n",
    "print(\"Lösung 1: \", bin(binary_result1))\n",
    "print(\"Lösung 1: \", (binary_result1))\n",
    "print(\"Lösung 2: \", bin(binary_result2))\n",
    "print(\"Lösung 2: \", (binary_result2))\n",
    "print(\"Lösung 3; \", bin(binary_result3))\n",
    "print(\"Lösung 3: \", (binary_result3))\n",
    "print(\"Lösung 4: \", bin(binary_result4))\n",
    "print(\"Lösung 4: \", (binary_result4))\n",
    "print(\"Lösung 5: \", bin(binary_result5))\n",
    "print(\"Lösung 5: \", (binary_result5))\n",
    "\n",
    "\n"
   ]
  },
  {
   "cell_type": "code",
   "execution_count": null,
   "metadata": {},
   "outputs": [
    {
     "name": "stdout",
     "output_type": "stream",
     "text": []
    }
   ],
   "source": [
    "# Vergleichsoperatoren\n",
    "# ==, !=, <, >, <=, >=\n",
    "\n",
    "x = 1\n",
    "y = 2\n",
    "z = 3\n",
    "a = 2\n",
    "\n",
    "print(x == y)\n",
    "print(x != y)\n",
    "print(x < y)\n",
    "print(x > y)\n",
    "print(x <= y)\n",
    "print(x >= y)\n",
    "print(a <= y)\n",
    "\n",
    "# Wahrheitswerte\n",
    "# and, or, not\n",
    "print(x < y < z)\n",
    "print(x < y and y < z)\n",
    "print(x < y or y < z)\n",
    "print(not x < y)\n"
   ]
  },
  {
   "cell_type": "code",
   "execution_count": 41,
   "metadata": {},
   "outputs": [
    {
     "name": "stdout",
     "output_type": "stream",
     "text": []
    }
   ],
   "source": [
    "# Shift-Operator\n",
    "\n",
    "a = 0b101\n",
    "b = 0b110\n",
    "c = 5\n",
    "d = 6\n",
    "print(a << 1)\n",
    "print(b >> 1)\n",
    "\n",
    "print(c << 1)\n",
    "print(c >> 1)\n",
    "print(d << 1)\n",
    "print(d >> 1)\n",
    "\n",
    "\n",
    "# Bitweise Operatoren\n",
    "# 0000 0111\n",
    "# 0000 0100\n",
    "# &\n",
    "# 0000 0100 >> 1\n",
    "\n",
    "zahl1 = 0b1001\n",
    "zahl2 = zahl1 >> 1\n",
    "print(\"Zahl 1:\", zahl1)\n",
    "print(\"Zahl 2:\", zahl2)\n",
    "\n",
    "print(\"Zahl 1:\", bin(zahl1))\n",
    "print(\"Zahl 2:\", bin(zahl2)) \n"
   ]
  },
  {
   "cell_type": "markdown",
   "metadata": {},
   "source": [
    "Der Code legt zwei Binärwerte fest: Der erste Wert `a` (0b101) entspricht im Dezimalsystem 5, der zweite Wert `b` (0b110) entspricht 6. Mit diesen Zahlen wird demonstriert, wie der Shift-Operator in Python funktioniert.\n",
    "\n",
    "Beim **Linksshift** `a << 1` werden die Bits von `a` um eine Stelle nach links verschoben. Das ist so, als würde man die Zahl mit 2 multiplizieren. Beim **Rechtsshift** `b >> 1` werden die Bits von `b` um eine Stelle nach rechts verschoben, was der Division durch 2 entspricht.\n",
    "\n",
    "Mit den Shift-Operatoren kannst du Binärzahlen gezielt verschieben, um damit schnell Multiplikationen oder Divisionen durch 2 durchzuführen. Das spart oft Rechenzeit und vereinfacht manche Bit-Manipulationen (etwa bei speziellen Algorithmen oder beim Zugriff auf bestimmte Bits einer Zahl)."
   ]
  },
  {
   "cell_type": "code",
   "execution_count": 37,
   "metadata": {},
   "outputs": [
    {
     "name": "stdout",
     "output_type": "stream",
     "text": []
    }
   ],
   "source": [
    "# If-Staements\n",
    "a = 5\n",
    "b = 6\n",
    "c = 7\n",
    "\n",
    "if a < b:\n",
    "    print(\"a ist wahr\")\n",
    "elif a > b:\n",
    "    print(\"a ist falsch\")\n",
    "else:\n",
    "    print(\"a ist weder 5 noch 6\")\n",
    "\n",
    "if (c > a) and (c > b):\n",
    "    print(\"c ist die größte Zahl\")\n",
    "else:\n",
    "    print(\"c ist nicht die größte Zahl\")\n",
    "\n",
    "if (a < b) or (a < c):\n",
    "    print(\"a ist die kleinste Zahl\")\n",
    "else:\n",
    "    print(\"a ist nicht die kleinste Zahl\")\n",
    "    "
   ]
  },
  {
   "cell_type": "code",
   "execution_count": null,
   "metadata": {},
   "outputs": [
    {
     "name": "stdout",
     "output_type": "stream",
     "text": []
    }
   ],
   "source": [
    "# Beispiele mit verschachtelten 2-dimensionalen Arrays und For-Schleifen\n",
    "# Füge ein Bild als SVG aus einer Matrix als Beispiel hibzu zb einen Schmetterling.\n",
    "# Ein 2D-Array (Matrix) erstellen\n",
    "matrix = [\n",
    "    [1, 2, 3],\n",
    "    [4, 5, 6],\n",
    "    [7, 8, 9]\n",
    "]\n",
    "\n",
    "# Durch die Matrix iterieren und alle Elemente ausgeben\n",
    "print(\"Matrix Elemente:\")\n",
    "for zeile in matrix:\n",
    "    for element in zeile:\n",
    "        print(element, end=\" \")\n",
    "    print()  # Neue Zeile nach jeder Zeile\n",
    "\n",
    "# Zeilen- und Spaltenindices verwenden\n",
    "print(\"\\nMatrix mit Indices:\")\n",
    "for i in range(len(matrix)):\n",
    "    for j in range(len(matrix[i])):\n",
    "        print(f\"matrix[{i}][{j}] = {matrix[i][j]}\")\n",
    "\n",
    "# Eine Matrix dynamisch generieren\n",
    "print(\"\\nDynamisch generierte Matrix:\")\n",
    "n = 4  # Größe der Matrix\n",
    "dynamische_matrix = [[i*j for j in range(1, n+1)] for i in range(1, n+1)]\n",
    "for zeile in dynamische_matrix:\n",
    "    print(zeile)\n",
    "\n",
    "# Muster mit verschachtelten Schleifen erstellen\n",
    "print(\"\\nSchachbrettmuster:\")\n",
    "for i in range(5):\n",
    "    for j in range(5):\n",
    "        if (i + j) % 2 == 0:\n",
    "            print(\"X\", end=\" \")\n",
    "        else:\n",
    "            print(\"O\", end=\" \")\n",
    "    print()\n",
    "\n",
    "# Summe aller Werte in einer Matrix berechnen\n",
    "summe = 0\n",
    "for zeile in matrix:\n",
    "    for element in zeile:\n",
    "        summe += element\n",
    "print(f\"\\nSumme aller Elemente: {summe}\")"
   ]
  },
  {
   "cell_type": "code",
   "execution_count": null,
   "metadata": {},
   "outputs": [
    {
     "name": "stdout",
     "output_type": "stream",
     "text": []
    }
   ],
   "source": [
    "# Unicode Schachfiguren\n",
    "print(\"Unicode Schachfiguren:\")\n",
    "print(\"Weiße Figuren: ♔ ♕ ♖ ♗ ♘ ♙\")\n",
    "print(\"Schwarze Figuren: ♚ ♛ ♜ ♝ ♞ ♟\")\n",
    "\n",
    "# Definiere Unicode-Zeichen für Schachfiguren\n",
    "weiss_koenig = \"♔\"\n",
    "weiss_dame = \"♕\"\n",
    "weiss_turm = \"♖\"\n",
    "weiss_laeufer = \"♗\"\n",
    "weiss_springer = \"♘\"\n",
    "weiss_bauer = \"♙\"\n",
    "\n",
    "schwarz_koenig = \"♚\"\n",
    "schwarz_dame = \"♛\"\n",
    "schwarz_turm = \"♜\"\n",
    "schwarz_laeufer = \"♝\"\n",
    "schwarz_springer = \"♞\"\n",
    "schwarz_bauer = \"♟\"\n",
    "\n",
    "# Erstelle ein 8x8 Schachbrett als 2D-Array\n",
    "schachbrett = [[\" \" for _ in range(8)] for _ in range(8)]\n",
    "\n",
    "# Setze die Figuren auf ihre Startpositionen\n",
    "# Schwarze Figuren\n",
    "schachbrett[0][0] = schwarz_turm\n",
    "schachbrett[0][1] = schwarz_springer\n",
    "schachbrett[0][2] = schwarz_laeufer\n",
    "schachbrett[0][3] = schwarz_dame\n",
    "schachbrett[0][4] = schwarz_koenig\n",
    "schachbrett[0][5] = schwarz_laeufer\n",
    "schachbrett[0][6] = schwarz_springer\n",
    "schachbrett[0][7] = schwarz_turm\n",
    "\n",
    "for i in range(8):\n",
    "    schachbrett[1][i] = schwarz_bauer\n",
    "\n",
    "# Weiße Figuren\n",
    "schachbrett[7][0] = weiss_turm\n",
    "schachbrett[7][1] = weiss_springer\n",
    "schachbrett[7][2] = weiss_laeufer\n",
    "schachbrett[7][3] = weiss_dame\n",
    "schachbrett[7][4] = weiss_koenig\n",
    "schachbrett[7][5] = weiss_laeufer\n",
    "schachbrett[7][6] = weiss_springer\n",
    "schachbrett[7][7] = weiss_turm\n",
    "\n",
    "for i in range(8):\n",
    "    schachbrett[6][i] = weiss_bauer\n",
    "\n",
    "# Gib das Schachbrett aus\n",
    "print(\"\\nSchachbrett mit Unicode Figuren:\")\n",
    "print(\"  ┌───┬───┬───┬───┬───┬───┬───┬───┐\")\n",
    "for i in range(8):\n",
    "    print(f\"{8-i} │\", end=\"\")\n",
    "    for j in range(8):\n",
    "        # Schachbrettmuster mit Unicode-Blöcken\n",
    "        bg = \"▓\" if (i + j) % 2 == 1 else \"░\"  # Dunkles oder helles Feld\n",
    "        \n",
    "        if schachbrett[i][j] != \" \":\n",
    "            print(f\" {schachbrett[i][j]} │\", end=\"\")\n",
    "        else:\n",
    "            print(f\" {bg} │\", end=\"\")\n",
    "    print(\"\")\n",
    "    if i < 7:\n",
    "        print(\"  ├───┼───┼───┼───┼───┼───┼───┼───┤\")\n",
    "    else:\n",
    "        print(\"  └───┴───┴───┴───┴───┴───┴───┴───┘\")\n",
    "\n",
    "print(\"    a   b   c   d   e   f   g   h  \")\n",
    "\n",
    "# Zeige auch die Unicode-Codepunkte\n",
    "print(\"\\nUnicode-Codepunkte der Schachfiguren:\")\n",
    "print(f\"Weißer König (♔): U+{ord(weiss_koenig):04X}\")\n",
    "print(f\"Weiße Dame (♕): U+{ord(weiss_dame):04X}\")\n",
    "print(f\"Weißer Turm (♖): U+{ord(weiss_turm):04X}\")\n",
    "print(f\"Weißer Läufer (♗): U+{ord(weiss_laeufer):04X}\")\n",
    "print(f\"Weißer Springer (♘): U+{ord(weiss_springer):04X}\")\n",
    "print(f\"Weißer Bauer (♙): U+{ord(weiss_bauer):04X}\")\n",
    "print(f\"Schwarzer König (♚): U+{ord(schwarz_koenig):04XZeige mir ASCI Unicode ZEichen für ein schachspiel.\n",
    "\n",
    "\n",
    "[3] [4, 5, 6],    [7, 8, 9]]# Durch die Matrix iterieren und alle Elemente ausgebenprint(\"Matrix Elemente:\")for zeile in matrix:    for element in zeile:        print(element, end=\" \")    print()  # Neue Zeile nach jeder Zeile# Zeilen- und Spaltenindices verwendenprint(\"\\nMatrix mit Indices:\")for i in range(len(matrix)):    for j in range(len(matrix[i])):        print(f\"matrix[{i}][{j}] = {matrix[i][j]}\")# Eine Matrix dynamisch generierenprint(\"\\nDynamisch generierte Matrix:\")n = 4  # Größe der Matrixdynamische_matrix = [[i*j for j in range(1, n+1)] for i in range(1, n+1)]for zeile in dynamische_matrix:    print(zeile)# Muster mit verschachtelten Schleifen erstellenprint(\"\\nSchachbrettmuster:\")for i in range(5):    for j in range(5):        if (i + j) % 2 == 0:            print(\"X\", end=\" \")        else:            print(\"O\", end=\" \")    print()# Summe aller Werte in einer Matrix berechnensumme = 0for zeile in matrix:    for element in zeile:        summe += elementprint(f\"\\nSumme aller Elemente: {summe}\")\n",
    "\n",
    "}\")\n",
    "print(f\"Schwarze Dame (♛): U+{ord(schwarz_dame):04X}\")\n",
    "print(f\"Schwarzer Turm (♜): U+{ord(schwarz_turm):04X}\")\n",
    "print(f\"Schwarzer Läufer (♝): U+{ord(schwarz_laeufer):04X}\")\n",
    "print(f\"Schwarzer Springer (♞): U+{ord(schwarz_springer):04X}\")\n",
    "print(f\"Schwarzer Bauer (♟): U+{ord(schwarz_bauer):04X}\")"
   ]
  },
  {
   "cell_type": "markdown",
   "metadata": {},
   "source": [
    "Bubbelsort Algo\n",
    "https://de.wikipedia.org/wiki/Bubblesort#/media/Datei:Bubble-sort-example-300px.gif"
   ]
  },
  {
   "cell_type": "code",
   "execution_count": 10,
   "metadata": {},
   "outputs": [
    {
     "name": "stdout",
     "output_type": "stream",
     "text": []
    }
   ],
   "source": [
    "import random\n",
    "\n",
    "def bubbelsort(liste):\n",
    "    sortierte_liste = liste.copy()\n",
    "    for i in range(len(liste)-1):\n",
    "        for j in range(len(liste)-1):\n",
    "            if sortierte_liste[j] > sortierte_liste[j+1]:\n",
    "                sortierte_liste[j], sortierte_liste[j+1] = sortierte_liste[j+1], sortierte_liste[j]\n",
    "\n",
    "\n",
    "    return sortierte_liste\n",
    "\n",
    "# Liste erstellen\n",
    "liste = []\n",
    "\n",
    "# Liste initialisiern unsortiert\n",
    "for _ in range(10):\n",
    "    liste.append(random.randint(1, 50))\n",
    "\n",
    "print(\"Unsortierte Liste:\", liste)\n",
    "print(\"Sortierte Liste:\", bubbelsort(liste))\n",
    "\n"
   ]
  },
  {
   "cell_type": "code",
   "execution_count": null,
   "metadata": {},
   "outputs": [],
   "source": [
    "# Lineare Suche\n",
    "\n",
    "# Liste erstellen\n",
    "liste = []\n",
    "\n",
    "# Liste initialisiern unsortiert\n",
    "for _ in range(10):\n",
    "    liste.append(random.randint(1, 50))\n",
    "\n",
    "print(\"Unsortierte Liste:\", liste)\n",
    "\n",
    "def lineare_suche(liste, element):\n",
    "\n",
    "    for i in range(len(liste)):\n",
    "        if liste[i] == element:\n",
    "            return i\n",
    "    print(\"Element nicht gefunden\")\n",
    "    "
   ]
  }
 ],
 "metadata": {
  "kernelspec": {
   "display_name": ".venv",
   "language": "python",
   "name": "python3"
  },
  "language_info": {
   "codemirror_mode": {
    "name": "ipython",
    "version": 3
   },
   "file_extension": ".py",
   "mimetype": "text/x-python",
   "name": "python",
   "nbconvert_exporter": "python",
   "pygments_lexer": "ipython3",
   "version": "3.12.3"
  }
 },
 "nbformat": 4,
 "nbformat_minor": 2
}
