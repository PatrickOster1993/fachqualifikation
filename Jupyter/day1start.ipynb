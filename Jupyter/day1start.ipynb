{
 "cells": [
  {
   "cell_type": "code",
   "execution_count": null,
   "metadata": {},
   "outputs": [],
   "source": [
    "# Ein und Ausgabe in einer Zeile\n",
    "print(\"Hallo\", input(\"Wie heißt du?\"))"
   ]
  },
  {
   "cell_type": "code",
   "execution_count": null,
   "metadata": {},
   "outputs": [],
   "source": [
    "# Eingabe von der Konsole\n",
    "a = 5\n",
    "print(\"Meine Zahl ist\", a, sep=\": \", end=\"!\\n\") # Meine Zahl ist: 5!\n"
   ]
  },
  {
   "cell_type": "code",
   "execution_count": 9,
   "metadata": {},
   "outputs": [
    {
     "name": "stdout",
     "output_type": "stream",
     "text": [
      "1000000\n",
      "15\n",
      "Die Zahl ist 5\n",
      "5\n",
      "Hexa: 1\n",
      "Hexa: 0x1\n",
      "Binär: 0b1\n",
      "Oktal: 0o1\n"
     ]
    }
   ],
   "source": [
    "# Nummerische Variablen\n",
    "big = 1_000_000\n",
    "print(big)\n",
    "\n",
    "# Umwandlung von Strings in Zahlen\n",
    "a = int(input(\"Gib eine Zahl ein: \"))\n",
    "print(a + 5)\n",
    "\n",
    "# Umwandlung von Zahlen in Strings\n",
    "a = 5\n",
    "print(\"Die Zahl ist \" + str(a))\n",
    "\n",
    "# Länge eines Strings\n",
    "a = \"Hallo\"\n",
    "print(len(a))\n",
    "\n",
    "# Heaxadezimalzahlen\n",
    "a = 0x1\n",
    "print(\"Hexa:\", a)\n",
    "print(\"Hexa:\", hex(a))\n",
    "print(\"Binär:\", bin(a))\n",
    "print(\"Oktal:\", oct(a))\n"
   ]
  },
  {
   "cell_type": "code",
   "execution_count": 13,
   "metadata": {},
   "outputs": [
    {
     "name": "stdout",
     "output_type": "stream",
     "text": [
      "<class 'int'>\n",
      "<class 'str'>\n",
      "<class 'float'>\n",
      "<class 'str'>\n",
      "<class 'bool'>\n",
      "<class 'NoneType'>\n"
     ]
    }
   ],
   "source": [
    "# Typen Check\n",
    "print(type(5))\n",
    "print(type(hex(0xb)))\n",
    "print(type(5.0))\n",
    "print(type(\"Hallo\"))\n",
    "print(type(True))\n",
    "print(type(None))\n"
   ]
  },
  {
   "cell_type": "code",
   "execution_count": null,
   "metadata": {},
   "outputs": [
    {
     "name": "stdout",
     "output_type": "stream",
     "text": [
      "11754056 11753960\n",
      "96\n",
      "11754056\n",
      "11753960\n"
     ]
    }
   ],
   "source": [
    "# ID der Speicheradresse checken\n",
    "\n",
    "i = 6\n",
    "n = 3\n",
    "\n",
    "print(id(i), id(n))\n",
    "print(id(i) - id(n))\n",
    "print(id(i))\n",
    "print(id(n))"
   ]
  },
  {
   "cell_type": "code",
   "execution_count": 21,
   "metadata": {},
   "outputs": [
    {
     "name": "stdout",
     "output_type": "stream",
     "text": [
      "1\n",
      "0\n",
      "5\n",
      "2\n",
      "2.5\n"
     ]
    }
   ],
   "source": [
    "# Modulo\n",
    "print(5 % 2)\n",
    "print(5 % 5)\n",
    "print(5 % 6)\n",
    "print(5 // 2)\n",
    "print(5 / 2)"
   ]
  },
  {
   "cell_type": "code",
   "execution_count": 25,
   "metadata": {},
   "outputs": [
    {
     "name": "stdout",
     "output_type": "stream",
     "text": [
      "8 16 16\n"
     ]
    }
   ],
   "source": [
    "# Potenzen\n",
    "a = 2**3\n",
    "b = 2**4\n",
    "c = 2 * 2**3\n",
    "print(a, b, c)\n",
    "\n",
    "\n",
    "\n"
   ]
  },
  {
   "cell_type": "code",
   "execution_count": 27,
   "metadata": {},
   "outputs": [
    {
     "name": "stdout",
     "output_type": "stream",
     "text": [
      "11\n",
      "<class 'int'>\n"
     ]
    }
   ],
   "source": [
    "str(5 + 6)\n",
    "print(5 + 6)\n",
    "print(type(5 + 6))"
   ]
  },
  {
   "cell_type": "code",
   "execution_count": 29,
   "metadata": {},
   "outputs": [
    {
     "name": "stdout",
     "output_type": "stream",
     "text": [
      "5 7\n",
      "Lösung 0b111\n",
      "Lösung 7\n",
      "Lösung 1:  0b111\n",
      "Lösung 1:  7\n",
      "Lösung 2:  0b10\n",
      "Lösung 2:  2\n",
      "Lösung 3;  -0b110\n",
      "Lösung 3:  -6\n",
      "Lösung 4:  0b1010\n",
      "Lösung 4:  10\n",
      "Lösung 5:  0b10\n",
      "Lösung 5:  2\n"
     ]
    }
   ],
   "source": [
    "binary_one = 0b101\n",
    "binary_two = 0b111\n",
    "print(binary_one, binary_two)\n",
    "binary_result = binary_one and binary_two\n",
    "binary_result1 = binary_one | binary_two\n",
    "binary_result2 = binary_one ^ binary_two\n",
    "binary_result3 = ~binary_one\n",
    "binary_result4 = binary_one << 1\n",
    "binary_result5 = binary_one >> 1\n",
    "\n",
    "print(\"Lösung\", bin(binary_result))\n",
    "print(\"Lösung\", (binary_result))\n",
    "print(\"Lösung 1: \", bin(binary_result1))\n",
    "print(\"Lösung 1: \", (binary_result1))\n",
    "print(\"Lösung 2: \", bin(binary_result2))\n",
    "print(\"Lösung 2: \", (binary_result2))\n",
    "print(\"Lösung 3; \", bin(binary_result3))\n",
    "print(\"Lösung 3: \", (binary_result3))\n",
    "print(\"Lösung 4: \", bin(binary_result4))\n",
    "print(\"Lösung 4: \", (binary_result4))\n",
    "print(\"Lösung 5: \", bin(binary_result5))\n",
    "print(\"Lösung 5: \", (binary_result5))\n",
    "\n",
    "\n"
   ]
  },
  {
   "cell_type": "code",
   "execution_count": null,
   "metadata": {},
   "outputs": [
    {
     "name": "stdout",
     "output_type": "stream",
     "text": [
      "False\n",
      "True\n",
      "True\n",
      "False\n",
      "True\n",
      "False\n",
      "True\n",
      "True\n",
      "True\n",
      "True\n",
      "False\n"
     ]
    }
   ],
   "source": [
    "# Vergleichsoperatoren\n",
    "# ==, !=, <, >, <=, >=\n",
    "\n",
    "x = 1\n",
    "y = 2\n",
    "z = 3\n",
    "a = 2\n",
    "\n",
    "print(x == y)\n",
    "print(x != y)\n",
    "print(x < y)\n",
    "print(x > y)\n",
    "print(x <= y)\n",
    "print(x >= y)\n",
    "print(a <= y)\n",
    "\n",
    "# Wahrheitswerte\n",
    "# and, or, not\n",
    "print(x < y < z)\n",
    "print(x < y and y < z)\n",
    "print(x < y or y < z)\n",
    "print(not x < y)\n"
   ]
  },
  {
   "cell_type": "code",
   "execution_count": 41,
   "metadata": {},
   "outputs": [
    {
     "name": "stdout",
     "output_type": "stream",
     "text": [
      "10\n",
      "3\n",
      "10\n",
      "2\n",
      "12\n",
      "3\n",
      "Zahl 1: 9\n",
      "Zahl 2: 4\n",
      "Zahl 1: 0b1001\n",
      "Zahl 2: 0b100\n"
     ]
    }
   ],
   "source": [
    "# Shift-Operator\n",
    "\n",
    "a = 0b101\n",
    "b = 0b110\n",
    "c = 5\n",
    "d = 6\n",
    "print(a << 1)\n",
    "print(b >> 1)\n",
    "\n",
    "print(c << 1)\n",
    "print(c >> 1)\n",
    "print(d << 1)\n",
    "print(d >> 1)\n",
    "\n",
    "\n",
    "# Bitweise Operatoren\n",
    "# 0000 0111\n",
    "# 0000 0100\n",
    "# &\n",
    "# 0000 0100 >> 1\n",
    "\n",
    "zahl1 = 0b1001\n",
    "zahl2 = zahl1 >> 1\n",
    "print(\"Zahl 1:\", zahl1)\n",
    "print(\"Zahl 2:\", zahl2)\n",
    "\n",
    "print(\"Zahl 1:\", bin(zahl1))\n",
    "print(\"Zahl 2:\", bin(zahl2)) \n"
   ]
  },
  {
   "cell_type": "markdown",
   "metadata": {},
   "source": [
    "Der Code legt zwei Binärwerte fest: Der erste Wert `a` (0b101) entspricht im Dezimalsystem 5, der zweite Wert `b` (0b110) entspricht 6. Mit diesen Zahlen wird demonstriert, wie der Shift-Operator in Python funktioniert.\n",
    "\n",
    "Beim **Linksshift** `a << 1` werden die Bits von `a` um eine Stelle nach links verschoben. Das ist so, als würde man die Zahl mit 2 multiplizieren. Beim **Rechtsshift** `b >> 1` werden die Bits von `b` um eine Stelle nach rechts verschoben, was der Division durch 2 entspricht.\n",
    "\n",
    "Mit den Shift-Operatoren kannst du Binärzahlen gezielt verschieben, um damit schnell Multiplikationen oder Divisionen durch 2 durchzuführen. Das spart oft Rechenzeit und vereinfacht manche Bit-Manipulationen (etwa bei speziellen Algorithmen oder beim Zugriff auf bestimmte Bits einer Zahl)."
   ]
  },
  {
   "cell_type": "code",
   "execution_count": 37,
   "metadata": {},
   "outputs": [
    {
     "name": "stdout",
     "output_type": "stream",
     "text": [
      "a ist wahr\n",
      "c ist die größte Zahl\n",
      "a ist die kleinste Zahl\n"
     ]
    }
   ],
   "source": [
    "# If-Staements\n",
    "a = 5\n",
    "b = 6\n",
    "c = 7\n",
    "\n",
    "if a < b:\n",
    "    print(\"a ist wahr\")\n",
    "elif a > b:\n",
    "    print(\"a ist falsch\")\n",
    "else:\n",
    "    print(\"a ist weder 5 noch 6\")\n",
    "\n",
    "if (c > a) and (c > b):\n",
    "    print(\"c ist die größte Zahl\")\n",
    "else:\n",
    "    print(\"c ist nicht die größte Zahl\")\n",
    "\n",
    "if (a < b) or (a < c):\n",
    "    print(\"a ist die kleinste Zahl\")\n",
    "else:\n",
    "    print(\"a ist nicht die kleinste Zahl\")\n",
    "    "
   ]
  }
 ],
 "metadata": {
  "kernelspec": {
   "display_name": ".venv",
   "language": "python",
   "name": ".venv"
  },
  "language_info": {
   "codemirror_mode": {
    "name": "ipython",
    "version": 3
   },
   "file_extension": ".py",
   "mimetype": "text/x-python",
   "name": "python",
   "nbconvert_exporter": "python",
   "pygments_lexer": "ipython3",
   "version": "3.12.3"
  }
 },
 "nbformat": 4,
 "nbformat_minor": 2
}
